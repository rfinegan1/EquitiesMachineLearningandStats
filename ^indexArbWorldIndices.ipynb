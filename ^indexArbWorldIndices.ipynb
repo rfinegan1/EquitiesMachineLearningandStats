{
 "cells": [
  {
   "cell_type": "code",
   "execution_count": 1,
   "metadata": {},
   "outputs": [],
   "source": [
    "#See correlations between different market indices since they open before US times\n",
    "#^BUK100P, ^STOXX50E, ^N100, ^BFX, IMOEX.ME, ^N225, 000001.SS, ^STI, ^GSPTSE, ^KS11, ^BSESN, ^AXJO, ^HSI, ^N225"
   ]
  },
  {
   "cell_type": "code",
   "execution_count": 1,
   "metadata": {},
   "outputs": [],
   "source": [
    "import pandas as pd\n",
    "import numpy as np\n",
    "import datetime as dt\n",
    "import pandas_datareader.data as web\n",
    "import tensorflow as tf\n",
    "from openpyxl.workbook import Workbook as wb\n",
    "from openpyxl import load_workbook\n",
    "from openpyxl.styles import Font\n",
    "from openpyxl.utils.dataframe import dataframe_to_rows\n",
    "import scipy\n",
    "from scipy.stats.stats import pearsonr\n",
    "import scipy.stats\n",
    "import scipy.optimize\n",
    "import scipy.spatial\n",
    "import matplotlib.pyplot as plt\n",
    "import seaborn as sb\n",
    "from pylab import rcParams\n",
    "from sklearn import linear_model\n",
    "import statsmodels.api as sm\n",
    "from sklearn.model_selection import train_test_split \n",
    "from sklearn.linear_model import LinearRegression\n",
    "from sklearn import metrics\n",
    "import warnings\n",
    "warnings.filterwarnings('ignore')"
   ]
  },
  {
   "cell_type": "code",
   "execution_count": 2,
   "metadata": {},
   "outputs": [],
   "source": [
    "end = dt.datetime.now()\n",
    "#change the number after the days\n",
    "start = end - dt.timedelta(days=365*5)\n",
    "symbols_list = 'IMOEX.ME', '^N100', '^N225', '^HSI', 'SPY', 'XLK', 'RSX', 'MSFT', 'ROSN.ME', '^RUT', 'GOOGL' \n",
    "symbols = []\n",
    "#ticker = 'IMOEX.ME'\n",
    "for ticker in symbols_list: \n",
    "    r = web.DataReader(ticker,'yahoo',start,end)\n",
    "    r[f'{ticker} Adj Close'] = r['Adj Close']\n",
    "    #r[f'{ticker} High'] = r['High']\n",
    "    #r[f'{ticker} Low'] = r['Low']\n",
    "    r[f'{ticker} Daily Return'] = (r['Adj Close'].pct_change())*100\n",
    "    r[f'{ticker} Up or Down'] = int(False)\n",
    "    r.loc[r[f'{ticker} Daily Return'] > 0, f'{ticker} Up or Down']=int(True)\n",
    "    r1 = r[[f'{ticker} Adj Close']]\n",
    "    #r1 = r[[f'{ticker} Up or Down']]\n",
    "    #r1 = r[[f'{ticker} Adj Close',f'{ticker} Daily Return',f'{ticker} High',f'{ticker} Low',f'{ticker} Up or Down']]\n",
    "    symbols.append(r1)\n",
    "df = pd.concat(symbols, sort=False, axis=1)\n",
    "df.dropna(how='any', inplace=True)\n",
    "#df.to_excel('WorldIndicesData.xlsx')"
   ]
  },
  {
   "cell_type": "code",
   "execution_count": 3,
   "metadata": {},
   "outputs": [
    {
     "data": {
      "text/html": [
       "<div>\n",
       "<style scoped>\n",
       "    .dataframe tbody tr th:only-of-type {\n",
       "        vertical-align: middle;\n",
       "    }\n",
       "\n",
       "    .dataframe tbody tr th {\n",
       "        vertical-align: top;\n",
       "    }\n",
       "\n",
       "    .dataframe thead th {\n",
       "        text-align: right;\n",
       "    }\n",
       "</style>\n",
       "<table border=\"1\" class=\"dataframe\">\n",
       "  <thead>\n",
       "    <tr style=\"text-align: right;\">\n",
       "      <th></th>\n",
       "      <th>IMOEX.ME Adj Close</th>\n",
       "      <th>^N100 Adj Close</th>\n",
       "      <th>^N225 Adj Close</th>\n",
       "      <th>^HSI Adj Close</th>\n",
       "      <th>SPY Adj Close</th>\n",
       "      <th>XLK Adj Close</th>\n",
       "      <th>RSX Adj Close</th>\n",
       "      <th>MSFT Adj Close</th>\n",
       "      <th>ROSN.ME Adj Close</th>\n",
       "      <th>^RUT Adj Close</th>\n",
       "      <th>GOOGL Adj Close</th>\n",
       "    </tr>\n",
       "  </thead>\n",
       "  <tbody>\n",
       "    <tr>\n",
       "      <td>IMOEX.ME Adj Close</td>\n",
       "      <td>1.000000</td>\n",
       "      <td>0.662106</td>\n",
       "      <td>0.634624</td>\n",
       "      <td>0.499258</td>\n",
       "      <td>0.936154</td>\n",
       "      <td>0.940664</td>\n",
       "      <td>0.911538</td>\n",
       "      <td>0.942026</td>\n",
       "      <td>0.927925</td>\n",
       "      <td>0.713394</td>\n",
       "      <td>0.902839</td>\n",
       "    </tr>\n",
       "    <tr>\n",
       "      <td>^N100 Adj Close</td>\n",
       "      <td>0.662106</td>\n",
       "      <td>1.000000</td>\n",
       "      <td>0.901886</td>\n",
       "      <td>0.809744</td>\n",
       "      <td>0.811192</td>\n",
       "      <td>0.733344</td>\n",
       "      <td>0.826036</td>\n",
       "      <td>0.624304</td>\n",
       "      <td>0.610417</td>\n",
       "      <td>0.890364</td>\n",
       "      <td>0.738954</td>\n",
       "    </tr>\n",
       "    <tr>\n",
       "      <td>^N225 Adj Close</td>\n",
       "      <td>0.634624</td>\n",
       "      <td>0.901886</td>\n",
       "      <td>1.000000</td>\n",
       "      <td>0.842775</td>\n",
       "      <td>0.805419</td>\n",
       "      <td>0.740131</td>\n",
       "      <td>0.758739</td>\n",
       "      <td>0.644915</td>\n",
       "      <td>0.597806</td>\n",
       "      <td>0.886465</td>\n",
       "      <td>0.749040</td>\n",
       "    </tr>\n",
       "    <tr>\n",
       "      <td>^HSI Adj Close</td>\n",
       "      <td>0.499258</td>\n",
       "      <td>0.809744</td>\n",
       "      <td>0.842775</td>\n",
       "      <td>1.000000</td>\n",
       "      <td>0.707847</td>\n",
       "      <td>0.630438</td>\n",
       "      <td>0.717196</td>\n",
       "      <td>0.506542</td>\n",
       "      <td>0.442087</td>\n",
       "      <td>0.846469</td>\n",
       "      <td>0.647147</td>\n",
       "    </tr>\n",
       "    <tr>\n",
       "      <td>SPY Adj Close</td>\n",
       "      <td>0.936154</td>\n",
       "      <td>0.811192</td>\n",
       "      <td>0.805419</td>\n",
       "      <td>0.707847</td>\n",
       "      <td>1.000000</td>\n",
       "      <td>0.982683</td>\n",
       "      <td>0.931181</td>\n",
       "      <td>0.939432</td>\n",
       "      <td>0.876724</td>\n",
       "      <td>0.864009</td>\n",
       "      <td>0.968241</td>\n",
       "    </tr>\n",
       "    <tr>\n",
       "      <td>XLK Adj Close</td>\n",
       "      <td>0.940664</td>\n",
       "      <td>0.733344</td>\n",
       "      <td>0.740131</td>\n",
       "      <td>0.630438</td>\n",
       "      <td>0.982683</td>\n",
       "      <td>1.000000</td>\n",
       "      <td>0.889317</td>\n",
       "      <td>0.981184</td>\n",
       "      <td>0.853097</td>\n",
       "      <td>0.775235</td>\n",
       "      <td>0.968210</td>\n",
       "    </tr>\n",
       "    <tr>\n",
       "      <td>RSX Adj Close</td>\n",
       "      <td>0.911538</td>\n",
       "      <td>0.826036</td>\n",
       "      <td>0.758739</td>\n",
       "      <td>0.717196</td>\n",
       "      <td>0.931181</td>\n",
       "      <td>0.889317</td>\n",
       "      <td>1.000000</td>\n",
       "      <td>0.827624</td>\n",
       "      <td>0.830719</td>\n",
       "      <td>0.847777</td>\n",
       "      <td>0.863169</td>\n",
       "    </tr>\n",
       "    <tr>\n",
       "      <td>MSFT Adj Close</td>\n",
       "      <td>0.942026</td>\n",
       "      <td>0.624304</td>\n",
       "      <td>0.644915</td>\n",
       "      <td>0.506542</td>\n",
       "      <td>0.939432</td>\n",
       "      <td>0.981184</td>\n",
       "      <td>0.827624</td>\n",
       "      <td>1.000000</td>\n",
       "      <td>0.840715</td>\n",
       "      <td>0.656890</td>\n",
       "      <td>0.927706</td>\n",
       "    </tr>\n",
       "    <tr>\n",
       "      <td>ROSN.ME Adj Close</td>\n",
       "      <td>0.927925</td>\n",
       "      <td>0.610417</td>\n",
       "      <td>0.597806</td>\n",
       "      <td>0.442087</td>\n",
       "      <td>0.876724</td>\n",
       "      <td>0.853097</td>\n",
       "      <td>0.830719</td>\n",
       "      <td>0.840715</td>\n",
       "      <td>1.000000</td>\n",
       "      <td>0.746664</td>\n",
       "      <td>0.851512</td>\n",
       "    </tr>\n",
       "    <tr>\n",
       "      <td>^RUT Adj Close</td>\n",
       "      <td>0.713394</td>\n",
       "      <td>0.890364</td>\n",
       "      <td>0.886465</td>\n",
       "      <td>0.846469</td>\n",
       "      <td>0.864009</td>\n",
       "      <td>0.775235</td>\n",
       "      <td>0.847777</td>\n",
       "      <td>0.656890</td>\n",
       "      <td>0.746664</td>\n",
       "      <td>1.000000</td>\n",
       "      <td>0.814613</td>\n",
       "    </tr>\n",
       "    <tr>\n",
       "      <td>GOOGL Adj Close</td>\n",
       "      <td>0.902839</td>\n",
       "      <td>0.738954</td>\n",
       "      <td>0.749040</td>\n",
       "      <td>0.647147</td>\n",
       "      <td>0.968241</td>\n",
       "      <td>0.968210</td>\n",
       "      <td>0.863169</td>\n",
       "      <td>0.927706</td>\n",
       "      <td>0.851512</td>\n",
       "      <td>0.814613</td>\n",
       "      <td>1.000000</td>\n",
       "    </tr>\n",
       "  </tbody>\n",
       "</table>\n",
       "</div>"
      ],
      "text/plain": [
       "                    IMOEX.ME Adj Close  ^N100 Adj Close  ^N225 Adj Close  \\\n",
       "IMOEX.ME Adj Close            1.000000         0.662106         0.634624   \n",
       "^N100 Adj Close               0.662106         1.000000         0.901886   \n",
       "^N225 Adj Close               0.634624         0.901886         1.000000   \n",
       "^HSI Adj Close                0.499258         0.809744         0.842775   \n",
       "SPY Adj Close                 0.936154         0.811192         0.805419   \n",
       "XLK Adj Close                 0.940664         0.733344         0.740131   \n",
       "RSX Adj Close                 0.911538         0.826036         0.758739   \n",
       "MSFT Adj Close                0.942026         0.624304         0.644915   \n",
       "ROSN.ME Adj Close             0.927925         0.610417         0.597806   \n",
       "^RUT Adj Close                0.713394         0.890364         0.886465   \n",
       "GOOGL Adj Close               0.902839         0.738954         0.749040   \n",
       "\n",
       "                    ^HSI Adj Close  SPY Adj Close  XLK Adj Close  \\\n",
       "IMOEX.ME Adj Close        0.499258       0.936154       0.940664   \n",
       "^N100 Adj Close           0.809744       0.811192       0.733344   \n",
       "^N225 Adj Close           0.842775       0.805419       0.740131   \n",
       "^HSI Adj Close            1.000000       0.707847       0.630438   \n",
       "SPY Adj Close             0.707847       1.000000       0.982683   \n",
       "XLK Adj Close             0.630438       0.982683       1.000000   \n",
       "RSX Adj Close             0.717196       0.931181       0.889317   \n",
       "MSFT Adj Close            0.506542       0.939432       0.981184   \n",
       "ROSN.ME Adj Close         0.442087       0.876724       0.853097   \n",
       "^RUT Adj Close            0.846469       0.864009       0.775235   \n",
       "GOOGL Adj Close           0.647147       0.968241       0.968210   \n",
       "\n",
       "                    RSX Adj Close  MSFT Adj Close  ROSN.ME Adj Close  \\\n",
       "IMOEX.ME Adj Close       0.911538        0.942026           0.927925   \n",
       "^N100 Adj Close          0.826036        0.624304           0.610417   \n",
       "^N225 Adj Close          0.758739        0.644915           0.597806   \n",
       "^HSI Adj Close           0.717196        0.506542           0.442087   \n",
       "SPY Adj Close            0.931181        0.939432           0.876724   \n",
       "XLK Adj Close            0.889317        0.981184           0.853097   \n",
       "RSX Adj Close            1.000000        0.827624           0.830719   \n",
       "MSFT Adj Close           0.827624        1.000000           0.840715   \n",
       "ROSN.ME Adj Close        0.830719        0.840715           1.000000   \n",
       "^RUT Adj Close           0.847777        0.656890           0.746664   \n",
       "GOOGL Adj Close          0.863169        0.927706           0.851512   \n",
       "\n",
       "                    ^RUT Adj Close  GOOGL Adj Close  \n",
       "IMOEX.ME Adj Close        0.713394         0.902839  \n",
       "^N100 Adj Close           0.890364         0.738954  \n",
       "^N225 Adj Close           0.886465         0.749040  \n",
       "^HSI Adj Close            0.846469         0.647147  \n",
       "SPY Adj Close             0.864009         0.968241  \n",
       "XLK Adj Close             0.775235         0.968210  \n",
       "RSX Adj Close             0.847777         0.863169  \n",
       "MSFT Adj Close            0.656890         0.927706  \n",
       "ROSN.ME Adj Close         0.746664         0.851512  \n",
       "^RUT Adj Close            1.000000         0.814613  \n",
       "GOOGL Adj Close           0.814613         1.000000  "
      ]
     },
     "execution_count": 3,
     "metadata": {},
     "output_type": "execute_result"
    }
   ],
   "source": [
    "#adjusted close correlations among major world indices\n",
    "#The MOEX has the strongest relationship with SPY\n",
    "df.corr()"
   ]
  },
  {
   "cell_type": "code",
   "execution_count": 5,
   "metadata": {},
   "outputs": [],
   "source": [
    "### Run a linear regression model between the MOEX and SPY ### As well as ^N100 and ^N225\n",
    "### Russia's market is open before ours so seeing where they are could help \n",
    "### judge where certain securities like SPY will be when our market opens"
   ]
  },
  {
   "cell_type": "code",
   "execution_count": 4,
   "metadata": {},
   "outputs": [
    {
     "name": "stdout",
     "output_type": "stream",
     "text": [
      "Intercept: \n",
      " [-54.70241991]\n",
      "Coefficients: \n",
      " [[0.03510542 0.0372825 ]]\n",
      "                                 OLS Regression Results                                \n",
      "=======================================================================================\n",
      "Dep. Variable:                      y   R-squared (uncentered):                   0.987\n",
      "Model:                            OLS   Adj. R-squared (uncentered):              0.987\n",
      "Method:                 Least Squares   F-statistic:                          4.287e+04\n",
      "Date:                Mon, 11 May 2020   Prob (F-statistic):                        0.00\n",
      "Time:                        14:34:34   Log-Likelihood:                         -3664.9\n",
      "No. Observations:                1093   AIC:                                      7334.\n",
      "Df Residuals:                    1091   BIC:                                      7344.\n",
      "Df Model:                           2                                                  \n",
      "Covariance Type:            nonrobust                                                  \n",
      "======================================================================================\n",
      "                         coef    std err          t      P>|t|      [0.025      0.975]\n",
      "--------------------------------------------------------------------------------------\n",
      "IMOEX.ME Adj Close     0.0383      0.001     53.318      0.000       0.037       0.040\n",
      "^N100 Adj Close       -0.0251      0.002    -15.411      0.000      -0.028      -0.022\n",
      "==============================================================================\n",
      "Omnibus:                      107.950   Durbin-Watson:                   0.031\n",
      "Prob(Omnibus):                  0.000   Jarque-Bera (JB):               44.766\n",
      "Skew:                          -0.286   Prob(JB):                     1.90e-10\n",
      "Kurtosis:                       2.190   Cond. No.                         20.8\n",
      "==============================================================================\n",
      "\n",
      "Warnings:\n",
      "[1] Standard Errors assume that the covariance matrix of the errors is correctly specified.\n"
     ]
    }
   ],
   "source": [
    "#finding multiple regression to SPY\n",
    "#Russian markets open up before and if RSX and MOEX are up, good chance SPY will be up, ^N100 or ^N225\n",
    "y = df[['XLK Adj Close']].values\n",
    "x = df[['IMOEX.ME Adj Close', '^N100 Adj Close']] \n",
    "regr = linear_model.LinearRegression()\n",
    "regr.fit(x, y)\n",
    "print('Intercept: \\n', regr.intercept_)\n",
    "print('Coefficients: \\n', regr.coef_)\n",
    "model = sm.OLS(y, x).fit()\n",
    "predictions = model.predict(x) \n",
    "print_model = model.summary()\n",
    "print(print_model)"
   ]
  },
  {
   "cell_type": "code",
   "execution_count": 5,
   "metadata": {},
   "outputs": [
    {
     "name": "stdout",
     "output_type": "stream",
     "text": [
      "Intercept: \n",
      " [-65.53869782]\n",
      "Coefficients: \n",
      " [[0.00663834 0.07770881]]\n",
      "                                 OLS Regression Results                                \n",
      "=======================================================================================\n",
      "Dep. Variable:                      y   R-squared (uncentered):                   0.998\n",
      "Model:                            OLS   Adj. R-squared (uncentered):              0.998\n",
      "Method:                 Least Squares   F-statistic:                          2.387e+05\n",
      "Date:                Mon, 11 May 2020   Prob (F-statistic):                        0.00\n",
      "Time:                        14:34:36   Log-Likelihood:                         -4234.2\n",
      "No. Observations:                1093   AIC:                                      8472.\n",
      "Df Residuals:                    1091   BIC:                                      8482.\n",
      "Df Model:                           2                                                  \n",
      "Covariance Type:            nonrobust                                                  \n",
      "======================================================================================\n",
      "                         coef    std err          t      P>|t|      [0.025      0.975]\n",
      "--------------------------------------------------------------------------------------\n",
      "^N225 Adj Close        0.0034      0.000     26.134      0.000       0.003       0.004\n",
      "IMOEX.ME Adj Close     0.0777      0.001     64.941      0.000       0.075       0.080\n",
      "==============================================================================\n",
      "Omnibus:                       88.291   Durbin-Watson:                   0.064\n",
      "Prob(Omnibus):                  0.000   Jarque-Bera (JB):               35.299\n",
      "Skew:                          -0.205   Prob(JB):                     2.16e-08\n",
      "Kurtosis:                       2.221   Cond. No.                         70.0\n",
      "==============================================================================\n",
      "\n",
      "Warnings:\n",
      "[1] Standard Errors assume that the covariance matrix of the errors is correctly specified.\n"
     ]
    }
   ],
   "source": [
    "#finding multiple regression to SPY\n",
    "#Russian markets open up before and if ^N225 and MOEX are up, good chance SPY will be up, ^N100 or ^N225\n",
    "#Tokyo is 13 hours ahead and Moscow is 7 hours ahead\n",
    "y = df[['SPY Adj Close']].values\n",
    "x = df[['^N225 Adj Close','IMOEX.ME Adj Close']] \n",
    "regr = linear_model.LinearRegression()\n",
    "regr.fit(x, y)\n",
    "print('Intercept: \\n', regr.intercept_)\n",
    "print('Coefficients: \\n', regr.coef_)\n",
    "model = sm.OLS(y, x).fit()\n",
    "predictions = model.predict(x) \n",
    "print_model = model.summary()\n",
    "print(print_model)"
   ]
  },
  {
   "cell_type": "code",
   "execution_count": 6,
   "metadata": {},
   "outputs": [
    {
     "name": "stdout",
     "output_type": "stream",
     "text": [
      "Intercept: \n",
      " [-146.30376758]\n",
      "Coefficients: \n",
      " [[0.12681606 0.06266071]]\n",
      "                                 OLS Regression Results                                \n",
      "=======================================================================================\n",
      "Dep. Variable:                      y   R-squared (uncentered):                   0.997\n",
      "Model:                            OLS   Adj. R-squared (uncentered):              0.997\n",
      "Method:                 Least Squares   F-statistic:                          1.623e+05\n",
      "Date:                Mon, 11 May 2020   Prob (F-statistic):                        0.00\n",
      "Time:                        14:34:39   Log-Likelihood:                         -6366.1\n",
      "No. Observations:                1093   AIC:                                  1.274e+04\n",
      "Df Residuals:                    1091   BIC:                                  1.275e+04\n",
      "Df Model:                           2                                                  \n",
      "Covariance Type:            nonrobust                                                  \n",
      "======================================================================================\n",
      "                         coef    std err          t      P>|t|      [0.025      0.975]\n",
      "--------------------------------------------------------------------------------------\n",
      "IMOEX.ME Adj Close     0.1268      0.008     15.070      0.000       0.110       0.143\n",
      "^N225 Adj Close        0.0555      0.001     60.001      0.000       0.054       0.057\n",
      "==============================================================================\n",
      "Omnibus:                       24.977   Durbin-Watson:                   0.063\n",
      "Prob(Omnibus):                  0.000   Jarque-Bera (JB):               26.103\n",
      "Skew:                          -0.374   Prob(JB):                     2.15e-06\n",
      "Kurtosis:                       3.122   Cond. No.                         70.0\n",
      "==============================================================================\n",
      "\n",
      "Warnings:\n",
      "[1] Standard Errors assume that the covariance matrix of the errors is correctly specified.\n"
     ]
    }
   ],
   "source": [
    "y = df[['^RUT Adj Close']].values\n",
    "x = df[['IMOEX.ME Adj Close','^N225 Adj Close']] \n",
    "regr = linear_model.LinearRegression()\n",
    "regr.fit(x, y)\n",
    "print('Intercept: \\n', regr.intercept_)\n",
    "print('Coefficients: \\n', regr.coef_)\n",
    "model = sm.OLS(y, x).fit()\n",
    "predictions = model.predict(x) \n",
    "print_model = model.summary()\n",
    "print(print_model)"
   ]
  },
  {
   "cell_type": "code",
   "execution_count": 11,
   "metadata": {},
   "outputs": [],
   "source": [
    "def worldIndice():\n",
    "    '''This function is used to make an excel I can use with \n",
    "    R programming language that has an easier stats package\n",
    "    that I can compare the data'''\n",
    "    end = dt.datetime.now()\n",
    "    #change the number after the days\n",
    "    start = end - dt.timedelta(days=365*5)\n",
    "    symbols_list = [\n",
    "        'IMOEX.ME','QQQ','SQQQ','^N100','^N225','^AXJO','ULVR.L','PRU.L','LSE.L','^VIX','^HSI','SPY','XLK','RSX',\n",
    "        'MSFT','ROSN.ME','^RUT','GOOGL','FB','AMZN','SNAP','SBRCY','000001.SS','^STOXX','^STOXX50E','AIR.PA',\n",
    "        '6758.T','GC=F','INTC','TCEHY','0700.HK','HSBA.L','VOD.L', '7203.T','TM', 'HSBC'\n",
    "    ]\n",
    "    symbols = []\n",
    "    #ticker = 'IMOEX.ME'\n",
    "    for ticker in symbols_list: \n",
    "        r = web.DataReader(ticker,'yahoo',start,end)\n",
    "        r[f'{ticker} Adj Close'] = r['Adj Close']\n",
    "        r[f'{ticker} Daily Return'] = (r['Adj Close'].pct_change())*100\n",
    "        r[f'{ticker} Up or Down'] = int(False)\n",
    "        r.loc[r[f'{ticker} Daily Return'] > 0, f'{ticker} Up or Down']=int(True)\n",
    "        r1 = r[[f'{ticker} Adj Close',f'{ticker} Up or Down',f'{ticker} Daily Return']]\n",
    "        symbols.append(r1)\n",
    "    df = pd.concat(symbols, sort=False, axis=1)\n",
    "    df.dropna(how='any', inplace=True)\n",
    "    #will move this to a working directory to be used in R because I like of some of the stattistical packages there \n",
    "    df.to_excel('WorldIndices.xlsx')"
   ]
  },
  {
   "cell_type": "code",
   "execution_count": 12,
   "metadata": {},
   "outputs": [],
   "source": [
    "worldIndice()"
   ]
  },
  {
   "cell_type": "code",
   "execution_count": 13,
   "metadata": {},
   "outputs": [
    {
     "data": {
      "text/plain": [
       "Index(['IMOEX.ME Up or Down', 'QQQ Up or Down', 'SQQQ Up or Down',\n",
       "       '^N100 Up or Down', '^N225 Up or Down', '^AXJO Up or Down',\n",
       "       'ULVR.L Up or Down', 'PRU.L Up or Down', 'LSE.L Up or Down',\n",
       "       '^VIX Up or Down', '^HSI Up or Down', 'SPY Up or Down',\n",
       "       'XLK Up or Down', 'RSX Up or Down', 'MSFT Up or Down',\n",
       "       'ROSN.ME Up or Down', '^RUT Up or Down', 'GOOGL Up or Down',\n",
       "       'FB Up or Down', 'AMZN Up or Down', 'SNAP Up or Down',\n",
       "       'SBRCY Up or Down', '000001.SS Up or Down', '^STOXX Up or Down',\n",
       "       '^STOXX50E Up or Down', 'AIR.PA Up or Down', '6758.T Up or Down',\n",
       "       'GC=F Up or Down', 'INTC Up or Down', 'TCEHY Up or Down',\n",
       "       '0700.HK Up or Down', 'HSBA.L Up or Down', 'VOD.L Up or Down',\n",
       "       '7203.T Up or Down', 'TM Up or Down', 'HSBC Up or Down'],\n",
       "      dtype='object')"
      ]
     },
     "execution_count": 13,
     "metadata": {},
     "output_type": "execute_result"
    }
   ],
   "source": [
    "#https://github.com/timestocome/Test-stock-prediction-algorithms/blob/master/StockMarketLinearRegression/LogisticRegression_Classifier.py\n",
    "#take correlations found from R code and apply to machine learning model\n",
    "data = pd.read_excel('WorldIndices.xlsx')\n",
    "data.set_index('Date', inplace=True)\n",
    "dfBin = data.iloc[:,1:len(data):3]\n",
    "#print(dfBin)\n",
    "weeklyDf = data.resample('W-MON').sum()\n",
    "#drop adjusted close prices because might make model innaccurate\n",
    "drop = weeklyDf.iloc[:,0:len(data):3]\n",
    "weeklyBin = dfBin.resample('W-MON').sum()\n",
    "weeklyDf = weeklyDf.drop(drop,axis=1)\n",
    "#weeklyDf.columns\n",
    "dfBin.columns\n",
    "#get binary data into weekly format"
   ]
  },
  {
   "cell_type": "code",
   "execution_count": 14,
   "metadata": {
    "scrolled": false
   },
   "outputs": [
    {
     "name": "stdout",
     "output_type": "stream",
     "text": [
      "CORRELATION MATRIX\n"
     ]
    },
    {
     "data": {
      "text/plain": [
       "QQQ Daily Return          1.000000\n",
       "XLK Daily Return          0.978669\n",
       "MSFT Daily Return         0.935599\n",
       "SPY Daily Return          0.926654\n",
       "GOOGL Daily Return        0.870148\n",
       "^RUT Daily Return         0.870009\n",
       "^N100 Daily Return        0.818406\n",
       "INTC Daily Return         0.817670\n",
       "^STOXX Daily Return       0.808573\n",
       "^STOXX50E Daily Return    0.804636\n",
       "FB Daily Return           0.786211\n",
       "AMZN Daily Return         0.781387\n",
       "PRU.L Daily Return        0.728105\n",
       "TM Daily Return           0.722681\n",
       "^N225 Daily Return        0.678450\n",
       "LSE.L Daily Return        0.663107\n",
       "TCEHY Daily Return        0.654634\n",
       "RSX Daily Return          0.611947\n",
       "HSBC Daily Return         0.576129\n",
       "IMOEX.ME Daily Return     0.568590\n",
       "VOD.L Daily Return        0.530270\n",
       "7203.T Daily Return       0.498697\n",
       "^HSI Daily Return         0.487707\n",
       "ULVR.L Daily Return       0.476896\n",
       "0700.HK Daily Return      0.474457\n",
       "ROSN.ME Daily Return      0.473597\n",
       "SPY Up or Down            0.472638\n",
       "QQQ Up or Down            0.466629\n",
       "AIR.PA Daily Return       0.463478\n",
       "XLK Up or Down            0.419775\n",
       "6758.T Daily Return       0.405336\n",
       "Name: QQQ Daily Return, dtype: float64"
      ]
     },
     "execution_count": 14,
     "metadata": {},
     "output_type": "execute_result"
    }
   ],
   "source": [
    "###Weekly Matrix showing correlations between QQQ ETF and rest of indices and stocks###\n",
    "print(\"CORRELATION MATRIX\")\n",
    "correlationMatrix = weeklyDf.corr()\n",
    "correlationMatrix = correlationMatrix[correlationMatrix>.4]\n",
    "sig = correlationMatrix['QQQ Daily Return'].dropna()\n",
    "sig.sort_values(ascending=False)"
   ]
  },
  {
   "cell_type": "code",
   "execution_count": 15,
   "metadata": {},
   "outputs": [
    {
     "name": "stdout",
     "output_type": "stream",
     "text": [
      "COVARIANCE MATRIX\n"
     ]
    },
    {
     "data": {
      "text/plain": [
       "PRU.L Daily Return        9.038312\n",
       "FB Daily Return           8.905136\n",
       "INTC Daily Return         8.878924\n",
       "SNAP Daily Return         8.348055\n",
       "MSFT Daily Return         8.345131\n",
       "XLK Daily Return          8.145789\n",
       "^RUT Daily Return         8.007569\n",
       "GOOGL Daily Return        7.742893\n",
       "QQQ Daily Return          7.606938\n",
       "TCEHY Daily Return        7.325602\n",
       "SPY Daily Return          6.810597\n",
       "AMZN Daily Return         6.717057\n",
       "AIR.PA Daily Return       6.364940\n",
       "LSE.L Daily Return        6.211397\n",
       "^N100 Daily Return        5.437931\n",
       "VOD.L Daily Return        5.397309\n",
       "RSX Daily Return          5.395944\n",
       "^STOXX50E Daily Return    5.376100\n",
       "ROSN.ME Daily Return      5.324567\n",
       "^STOXX Daily Return       5.086020\n",
       "TM Daily Return           4.610769\n",
       "SBRCY Daily Return        4.413243\n",
       "0700.HK Daily Return      4.403556\n",
       "HSBC Daily Return         4.005097\n",
       "^N225 Daily Return        3.985768\n",
       "IMOEX.ME Daily Return     3.954418\n",
       "6758.T Daily Return       3.851611\n",
       "7203.T Daily Return       3.198198\n",
       "ULVR.L Daily Return       2.894824\n",
       "^HSI Daily Return         2.821983\n",
       "HSBA.L Daily Return       2.462510\n",
       "000001.SS Daily Return    1.576342\n",
       "SPY Up or Down            1.442498\n",
       "QQQ Up or Down            1.334627\n",
       "XLK Up or Down            1.281160\n",
       "AMZN Up or Down           1.243427\n",
       "^RUT Up or Down           1.149851\n",
       "GOOGL Up or Down          1.125585\n",
       "MSFT Up or Down           1.089618\n",
       "^STOXX Up or Down         1.085009\n",
       "FB Up or Down             1.076824\n",
       "^N100 Up or Down          1.034419\n",
       "^STOXX50E Up or Down      1.025577\n",
       "INTC Up or Down           1.004664\n",
       "Name: QQQ Daily Return, dtype: float64"
      ]
     },
     "execution_count": 15,
     "metadata": {},
     "output_type": "execute_result"
    }
   ],
   "source": [
    "###Weekly Matrix showing covariations between QQQ ETF and rest of indices and stocks###\n",
    "print(\"COVARIANCE MATRIX\")\n",
    "covarianceMatrix = weeklyDf.cov()\n",
    "covarianceMatrix = covarianceMatrix[covarianceMatrix > 1]\n",
    "sigCov = (covarianceMatrix['QQQ Daily Return'].dropna())\n",
    "sigCov.sort_values(ascending = False)"
   ]
  },
  {
   "cell_type": "code",
   "execution_count": 17,
   "metadata": {},
   "outputs": [
    {
     "name": "stdout",
     "output_type": "stream",
     "text": [
      "Intercept: \n",
      " [0.60920723]\n",
      "Coefficients: \n",
      " [[0.22128251 0.36529714 0.11591637]]\n",
      "                                 OLS Regression Results                                \n",
      "=======================================================================================\n",
      "Dep. Variable:                      y   R-squared (uncentered):                   0.830\n",
      "Model:                            OLS   Adj. R-squared (uncentered):              0.827\n",
      "Method:                 Least Squares   F-statistic:                              267.5\n",
      "Date:                Mon, 11 May 2020   Prob (F-statistic):                    6.39e-63\n",
      "Time:                        14:39:53   Log-Likelihood:                         -220.19\n",
      "No. Observations:                 167   AIC:                                      446.4\n",
      "Df Residuals:                     164   BIC:                                      455.7\n",
      "Df Model:                           3                                                  \n",
      "Covariance Type:            nonrobust                                                  \n",
      "=======================================================================================\n",
      "                          coef    std err          t      P>|t|      [0.025      0.975]\n",
      "---------------------------------------------------------------------------------------\n",
      "IMOEX.ME Up or Down     0.3390      0.070      4.840      0.000       0.201       0.477\n",
      "^N100 Up or Down        0.4083      0.134      3.053      0.003       0.144       0.672\n",
      "^STOXX Up or Down       0.2172      0.128      1.701      0.091      -0.035       0.469\n",
      "==============================================================================\n",
      "Omnibus:                        6.475   Durbin-Watson:                   2.250\n",
      "Prob(Omnibus):                  0.039   Jarque-Bera (JB):                6.396\n",
      "Skew:                           0.370   Prob(JB):                       0.0408\n",
      "Kurtosis:                       3.609   Cond. No.                         9.10\n",
      "==============================================================================\n",
      "\n",
      "Warnings:\n",
      "[1] Standard Errors assume that the covariance matrix of the errors is correctly specified.\n"
     ]
    }
   ],
   "source": [
    "###Weekly Up and Down Multiple Regression###\n",
    "y = weeklyDf[['SPY Up or Down']].values\n",
    "x = weeklyDf[['IMOEX.ME Up or Down','^N100 Up or Down','^STOXX Up or Down']]  \n",
    "regr = linear_model.LinearRegression()\n",
    "regr.fit(x, y)\n",
    "print('Intercept: \\n', regr.intercept_)\n",
    "print('Coefficients: \\n', regr.coef_)\n",
    "model = sm.OLS(y, x).fit()\n",
    "predictions = model.predict(x) \n",
    "print_model = model.summary()\n",
    "print(print_model)"
   ]
  },
  {
   "cell_type": "code",
   "execution_count": 18,
   "metadata": {},
   "outputs": [],
   "source": [
    "####Daily Correlations####"
   ]
  },
  {
   "cell_type": "code",
   "execution_count": 54,
   "metadata": {},
   "outputs": [],
   "source": [
    "###Daily Up and Down###\n",
    "data = pd.read_excel('WorldIndices.xlsx')\n",
    "data.set_index('Date', inplace=True)\n",
    "dfBin = data.iloc[:,1:len(data):3]\n",
    "#drop adjusted close prices because might make model innaccurate\n",
    "drop = data.iloc[:,0:len(data):3]\n",
    "df = data.drop(drop,axis=1)"
   ]
  },
  {
   "cell_type": "code",
   "execution_count": 55,
   "metadata": {},
   "outputs": [
    {
     "name": "stdout",
     "output_type": "stream",
     "text": [
      "CORRELATION MATRIX\n"
     ]
    },
    {
     "data": {
      "text/plain": [
       "TM Up or Down          1.000000\n",
       "TM Daily Return        0.665466\n",
       "7203.T Up or Down      0.484776\n",
       "7203.T Daily Return    0.467321\n",
       "QQQ Daily Return       0.351761\n",
       "XLK Daily Return       0.349178\n",
       "SPY Daily Return       0.347651\n",
       "SPY Up or Down         0.336494\n",
       "^RUT Daily Return      0.324234\n",
       "XLK Up or Down         0.307989\n",
       "GOOGL Daily Return     0.306400\n",
       "TCEHY Daily Return     0.306222\n",
       "Name: TM Up or Down, dtype: float64"
      ]
     },
     "execution_count": 55,
     "metadata": {},
     "output_type": "execute_result"
    }
   ],
   "source": [
    "###Daily Matrix showing correlations between SPY ETF and rest of indices and stocks###\n",
    "print(\"CORRELATION MATRIX\")\n",
    "correlationMatrix = df.corr()\n",
    "correlationMatrix = correlationMatrix[correlationMatrix>.3]\n",
    "sig = correlationMatrix['TM Up or Down'].dropna()\n",
    "sig.sort_values(ascending=False)"
   ]
  },
  {
   "cell_type": "code",
   "execution_count": 56,
   "metadata": {},
   "outputs": [
    {
     "name": "stdout",
     "output_type": "stream",
     "text": [
      "COVARIANCE MATRIX\n"
     ]
    },
    {
     "data": {
      "text/plain": [
       "TCEHY Daily Return        0.478997\n",
       "MSFT Daily Return         0.441637\n",
       "INTC Daily Return         0.429911\n",
       "XLK Daily Return          0.425314\n",
       "FB Daily Return           0.424443\n",
       "AMZN Daily Return         0.416957\n",
       "GOOGL Daily Return        0.411490\n",
       "QQQ Daily Return          0.403543\n",
       "SBRCY Daily Return        0.395678\n",
       "SNAP Daily Return         0.385637\n",
       "^RUT Daily Return         0.381899\n",
       "RSX Daily Return          0.378209\n",
       "AIR.PA Daily Return       0.351275\n",
       "SPY Daily Return          0.340091\n",
       "PRU.L Daily Return        0.276433\n",
       "HSBC Daily Return         0.250432\n",
       "SPY Up or Down            0.246828\n",
       "TM Daily Return           0.232148\n",
       "^STOXX50E Daily Return    0.212946\n",
       "^N100 Daily Return        0.212777\n",
       "^STOXX Daily Return       0.192339\n",
       "LSE.L Daily Return        0.180773\n",
       "QQQ Up or Down            0.171641\n",
       "XLK Up or Down            0.165412\n",
       "HSBA.L Daily Return       0.154876\n",
       "0700.HK Daily Return      0.154257\n",
       "VOD.L Daily Return        0.148389\n",
       "^RUT Up or Down           0.140139\n",
       "6758.T Daily Return       0.138861\n",
       "MSFT Up or Down           0.137306\n",
       "IMOEX.ME Daily Return     0.131533\n",
       "^HSI Daily Return         0.122325\n",
       "^N225 Daily Return        0.115773\n",
       "AMZN Up or Down           0.111182\n",
       "ROSN.ME Daily Return      0.110082\n",
       "GOOGL Up or Down          0.105591\n",
       "INTC Up or Down           0.104247\n",
       "^N100 Up or Down          0.102333\n",
       "TCEHY Up or Down          0.101060\n",
       "Name: SPY Up or Down, dtype: float64"
      ]
     },
     "execution_count": 56,
     "metadata": {},
     "output_type": "execute_result"
    }
   ],
   "source": [
    "###Daily Matrix showing covariations between SPY ETF and rest of indices and stocks###\n",
    "print(\"COVARIANCE MATRIX\")\n",
    "covarianceMatrix = df.cov()\n",
    "covarianceMatrix = covarianceMatrix[covarianceMatrix > .1]\n",
    "sigCov = (covarianceMatrix['SPY Up or Down'].dropna())\n",
    "sigCov.sort_values(ascending = False)"
   ]
  },
  {
   "cell_type": "code",
   "execution_count": 57,
   "metadata": {},
   "outputs": [
    {
     "name": "stdout",
     "output_type": "stream",
     "text": [
      "Intercept: \n",
      " [0.26609209]\n",
      "Coefficients: \n",
      " [[0.14195724 0.2929779  0.1092886 ]]\n",
      "                                 OLS Regression Results                                \n",
      "=======================================================================================\n",
      "Dep. Variable:                      y   R-squared (uncentered):                   0.604\n",
      "Model:                            OLS   Adj. R-squared (uncentered):              0.602\n",
      "Method:                 Least Squares   F-statistic:                              285.9\n",
      "Date:                Mon, 11 May 2020   Prob (F-statistic):                   1.03e-112\n",
      "Time:                        15:09:04   Log-Likelihood:                         -377.13\n",
      "No. Observations:                 566   AIC:                                      760.3\n",
      "Df Residuals:                     563   BIC:                                      773.3\n",
      "Df Model:                           3                                                  \n",
      "Covariance Type:            nonrobust                                                  \n",
      "========================================================================================\n",
      "                           coef    std err          t      P>|t|      [0.025      0.975]\n",
      "----------------------------------------------------------------------------------------\n",
      "IMOEX.ME Up or Down      0.2882      0.037      7.874      0.000       0.216       0.360\n",
      "^N100 Up or Down         0.3972      0.063      6.349      0.000       0.274       0.520\n",
      "^STOXX50E Up or Down     0.1872      0.063      2.970      0.003       0.063       0.311\n",
      "==============================================================================\n",
      "Omnibus:                        1.606   Durbin-Watson:                   2.073\n",
      "Prob(Omnibus):                  0.448   Jarque-Bera (JB):                1.691\n",
      "Skew:                          -0.119   Prob(JB):                        0.429\n",
      "Kurtosis:                       2.876   Cond. No.                         4.92\n",
      "==============================================================================\n",
      "\n",
      "Warnings:\n",
      "[1] Standard Errors assume that the covariance matrix of the errors is correctly specified.\n"
     ]
    }
   ],
   "source": [
    "###Daily World Index Daily Pos / Neg Return Multiple Regression###\n",
    "y = df[['SPY Up or Down']].values\n",
    "#x = df[['IMOEX.ME Up or Down','^N225 Up or Down','^STOXX50E Up or Down']]  \n",
    "x = df[['IMOEX.ME Up or Down','^N100 Up or Down','^STOXX50E Up or Down']]  \n",
    "regr = linear_model.LinearRegression()\n",
    "regr.fit(x, y)\n",
    "print('Intercept: \\n', regr.intercept_)\n",
    "print('Coefficients: \\n', regr.coef_)\n",
    "model = sm.OLS(y, x).fit()\n",
    "predictions = model.predict(x) \n",
    "print_model = model.summary()\n",
    "print(print_model)"
   ]
  },
  {
   "cell_type": "code",
   "execution_count": 58,
   "metadata": {},
   "outputs": [
    {
     "data": {
      "text/plain": [
       "SPY Up or Down  ^N100 Up or Down\n",
       "0               0                   0.682731\n",
       "                1                   0.317269\n",
       "1               0                   0.268139\n",
       "                1                   0.731861\n",
       "Name: XLK Up or Down, dtype: float64"
      ]
     },
     "execution_count": 58,
     "metadata": {},
     "output_type": "execute_result"
    }
   ],
   "source": [
    "### Conditional Probability Between SPY and ^N100 is 73%\n",
    "'''WHEN THE ^N100 IS UP, 73% chance that SPY will be up (.67+.06) (.06 is added in because ^STOXX can be up or\n",
    " down for the day and not matter)'''\n",
    "df.groupby('SPY Up or Down').count()['XLK Up or Down'] / len(df)\n",
    "#df.groupby('XLK Up or Down').count()['SPY Up or Down'] / len(df)\n",
    "(df.groupby(['SPY Up or Down','^N100 Up or Down']).count() / df.groupby('SPY Up or Down').count())['XLK Up or Down']\n",
    "#(df.groupby(['XLK Up or Down', '^STOXX50E Up or Down']).count() / df.groupby('XLK Up or Down').count())['SPY Up or Down']"
   ]
  },
  {
   "cell_type": "code",
   "execution_count": 59,
   "metadata": {},
   "outputs": [
    {
     "data": {
      "text/plain": [
       "^N100 Up or Down  XLK Up or Down\n",
       "0                 0                 0.619608\n",
       "                  1                 0.380392\n",
       "1                 0                 0.292605\n",
       "                  1                 0.707395\n",
       "Name: SPY Up or Down, dtype: float64"
      ]
     },
     "execution_count": 59,
     "metadata": {},
     "output_type": "execute_result"
    }
   ],
   "source": [
    "### Conditional Probability Between XLK and ^N100 is 70.7452% ###\n",
    "\n",
    "'''WHEN THE ^N100 IS UP, ~71% chance that SPY will be up (.67+.06) (.06 is added in because ^STOXX can be up or\n",
    " down for the day and not matter)'''\n",
    "df.groupby('^N100 Up or Down').count()['SPY Up or Down'] / len(df)\n",
    "#df.groupby('XLK Up or Down').count()['SPY Up or Down'] / len(df)\n",
    "(df.groupby(['^N100 Up or Down','XLK Up or Down']).count() / df.groupby('^N100 Up or Down').count())['SPY Up or Down']\n",
    "#(df.groupby(['XLK Up or Down', '^STOXX50E Up or Down']).count() / df.groupby('XLK Up or Down').count())['SPY Up or Down']\n",
    "#IMOEX.ME Up or Down','^N100 Up or Down','^STOXX Up or Down w/ SPY"
   ]
  },
  {
   "cell_type": "code",
   "execution_count": 78,
   "metadata": {},
   "outputs": [
    {
     "data": {
      "text/plain": [
       "7203.T Up or Down  TM Up or Down\n",
       "0                  0                0.718310\n",
       "                   1                0.281690\n",
       "1                  0                0.234043\n",
       "                   1                0.765957\n",
       "Name: SPY Up or Down, dtype: float64"
      ]
     },
     "execution_count": 78,
     "metadata": {},
     "output_type": "execute_result"
    }
   ],
   "source": [
    "### Conditional Probability Between Toyota's NYSE and Japan Equity 76.5957 ###\n",
    "\n",
    "df.groupby('7203.T Up or Down').count()['SPY Up or Down'] / len(df)\n",
    "(df.groupby(['7203.T Up or Down','TM Up or Down']).count() / df.groupby('7203.T Up or Down').count())['SPY Up or Down']"
   ]
  },
  {
   "cell_type": "code",
   "execution_count": 61,
   "metadata": {},
   "outputs": [
    {
     "data": {
      "text/plain": [
       "^N100 Up or Down  ^STOXX Up or Down  QQQ Up or Down\n",
       "0                 0                  0                 0.560784\n",
       "                                     1                 0.345098\n",
       "                  1                  0                 0.047059\n",
       "                                     1                 0.047059\n",
       "1                 0                  0                 0.022508\n",
       "                                     1                 0.057878\n",
       "                  1                  0                 0.254019\n",
       "                                     1                 0.665595\n",
       "Name: XLK Up or Down, dtype: float64"
      ]
     },
     "execution_count": 61,
     "metadata": {},
     "output_type": "execute_result"
    }
   ],
   "source": [
    "###QQQ conditional probability\n",
    "df.groupby('^N100 Up or Down').count()['XLK Up or Down'] / len(df)\n",
    "(df.groupby(['^N100 Up or Down','^STOXX Up or Down','QQQ Up or Down']).count() / df.groupby('^N100 Up or Down').count())['XLK Up or Down']"
   ]
  },
  {
   "cell_type": "code",
   "execution_count": 62,
   "metadata": {},
   "outputs": [
    {
     "data": {
      "text/plain": [
       "^N100 Up or Down  QQQ Up or Down\n",
       "0                 0                 0.607843\n",
       "                  1                 0.392157\n",
       "1                 0                 0.276527\n",
       "                  1                 0.723473\n",
       "Name: XLK Up or Down, dtype: float64"
      ]
     },
     "execution_count": 62,
     "metadata": {},
     "output_type": "execute_result"
    }
   ],
   "source": [
    "#Binary Conditional Probability with QQQ and ^N100 (whether the stock was up or down for the day) \n",
    "df.groupby('^N100 Up or Down').count()['XLK Up or Down'] / len(df)\n",
    "(df.groupby(['^N100 Up or Down','QQQ Up or Down']).count() / df.groupby('^N100 Up or Down').count())['XLK Up or Down']"
   ]
  },
  {
   "cell_type": "code",
   "execution_count": 63,
   "metadata": {},
   "outputs": [
    {
     "data": {
      "text/plain": [
       "^STOXX Up or Down  QQQ Up or Down\n",
       "0                  0                 0.585938\n",
       "                   1                 0.414062\n",
       "1                  0                 0.293548\n",
       "                   1                 0.706452\n",
       "Name: XLK Up or Down, dtype: float64"
      ]
     },
     "execution_count": 63,
     "metadata": {},
     "output_type": "execute_result"
    }
   ],
   "source": [
    "#Binary Conditional Probability with QQQ and ^STOXX (whether the stock was up or down for the day) \n",
    "df.groupby('^STOXX Up or Down').count()['XLK Up or Down'] / len(df)\n",
    "(df.groupby(['^STOXX Up or Down','QQQ Up or Down']).count() / df.groupby('^STOXX Up or Down').count())['XLK Up or Down']"
   ]
  },
  {
   "cell_type": "code",
   "execution_count": 83,
   "metadata": {},
   "outputs": [
    {
     "data": {
      "text/plain": [
       "IMOEX.ME Up or Down  QQQ Up or Down\n",
       "0                    0                 0.524164\n",
       "                     1                 0.475836\n",
       "1                    0                 0.336700\n",
       "                     1                 0.663300\n",
       "Name: XLK Up or Down, dtype: float64"
      ]
     },
     "execution_count": 83,
     "metadata": {},
     "output_type": "execute_result"
    }
   ],
   "source": [
    "df.groupby('IMOEX.ME Up or Down').count()['XLK Up or Down'] / len(df)\n",
    "(df.groupby(['IMOEX.ME Up or Down','QQQ Up or Down']).count() / df.groupby('IMOEX.ME Up or Down').count())['XLK Up or Down']"
   ]
  },
  {
   "cell_type": "code",
   "execution_count": 93,
   "metadata": {},
   "outputs": [
    {
     "data": {
      "text/html": [
       "<div>\n",
       "<style scoped>\n",
       "    .dataframe tbody tr th:only-of-type {\n",
       "        vertical-align: middle;\n",
       "    }\n",
       "\n",
       "    .dataframe tbody tr th {\n",
       "        vertical-align: top;\n",
       "    }\n",
       "\n",
       "    .dataframe thead th {\n",
       "        text-align: right;\n",
       "    }\n",
       "</style>\n",
       "<table border=\"1\" class=\"dataframe\">\n",
       "  <thead>\n",
       "    <tr style=\"text-align: right;\">\n",
       "      <th></th>\n",
       "      <th>^STOXX Up or Down</th>\n",
       "      <th>XLK Up or Down</th>\n",
       "      <th>QQQ Up or Down</th>\n",
       "      <th>^N100 Up or Down</th>\n",
       "      <th>SPY Up or Down</th>\n",
       "      <th>IMOEX.ME Up or Down</th>\n",
       "      <th>^STOXX and ^N100</th>\n",
       "      <th>IMOEX.ME and ^N100</th>\n",
       "      <th>IMOEX.ME and ^N100 and ^STOXX</th>\n",
       "    </tr>\n",
       "    <tr>\n",
       "      <th>Date</th>\n",
       "      <th></th>\n",
       "      <th></th>\n",
       "      <th></th>\n",
       "      <th></th>\n",
       "      <th></th>\n",
       "      <th></th>\n",
       "      <th></th>\n",
       "      <th></th>\n",
       "      <th></th>\n",
       "    </tr>\n",
       "  </thead>\n",
       "  <tbody>\n",
       "    <tr>\n",
       "      <td>2017-03-06</td>\n",
       "      <td>0</td>\n",
       "      <td>0</td>\n",
       "      <td>0</td>\n",
       "      <td>0</td>\n",
       "      <td>0</td>\n",
       "      <td>0</td>\n",
       "      <td>0</td>\n",
       "      <td>0</td>\n",
       "      <td>0</td>\n",
       "    </tr>\n",
       "    <tr>\n",
       "      <td>2017-03-07</td>\n",
       "      <td>0</td>\n",
       "      <td>0</td>\n",
       "      <td>0</td>\n",
       "      <td>0</td>\n",
       "      <td>0</td>\n",
       "      <td>0</td>\n",
       "      <td>0</td>\n",
       "      <td>0</td>\n",
       "      <td>0</td>\n",
       "    </tr>\n",
       "    <tr>\n",
       "      <td>2017-03-09</td>\n",
       "      <td>1</td>\n",
       "      <td>0</td>\n",
       "      <td>1</td>\n",
       "      <td>1</td>\n",
       "      <td>1</td>\n",
       "      <td>0</td>\n",
       "      <td>1</td>\n",
       "      <td>0</td>\n",
       "      <td>0</td>\n",
       "    </tr>\n",
       "    <tr>\n",
       "      <td>2017-03-13</td>\n",
       "      <td>1</td>\n",
       "      <td>1</td>\n",
       "      <td>1</td>\n",
       "      <td>1</td>\n",
       "      <td>1</td>\n",
       "      <td>1</td>\n",
       "      <td>1</td>\n",
       "      <td>1</td>\n",
       "      <td>1</td>\n",
       "    </tr>\n",
       "    <tr>\n",
       "      <td>2017-03-14</td>\n",
       "      <td>0</td>\n",
       "      <td>0</td>\n",
       "      <td>0</td>\n",
       "      <td>0</td>\n",
       "      <td>0</td>\n",
       "      <td>1</td>\n",
       "      <td>0</td>\n",
       "      <td>0</td>\n",
       "      <td>0</td>\n",
       "    </tr>\n",
       "    <tr>\n",
       "      <td>...</td>\n",
       "      <td>...</td>\n",
       "      <td>...</td>\n",
       "      <td>...</td>\n",
       "      <td>...</td>\n",
       "      <td>...</td>\n",
       "      <td>...</td>\n",
       "      <td>...</td>\n",
       "      <td>...</td>\n",
       "      <td>...</td>\n",
       "    </tr>\n",
       "    <tr>\n",
       "      <td>2020-04-23</td>\n",
       "      <td>1</td>\n",
       "      <td>0</td>\n",
       "      <td>0</td>\n",
       "      <td>1</td>\n",
       "      <td>0</td>\n",
       "      <td>1</td>\n",
       "      <td>1</td>\n",
       "      <td>1</td>\n",
       "      <td>1</td>\n",
       "    </tr>\n",
       "    <tr>\n",
       "      <td>2020-04-24</td>\n",
       "      <td>0</td>\n",
       "      <td>1</td>\n",
       "      <td>1</td>\n",
       "      <td>0</td>\n",
       "      <td>1</td>\n",
       "      <td>0</td>\n",
       "      <td>0</td>\n",
       "      <td>0</td>\n",
       "      <td>0</td>\n",
       "    </tr>\n",
       "    <tr>\n",
       "      <td>2020-04-27</td>\n",
       "      <td>1</td>\n",
       "      <td>1</td>\n",
       "      <td>1</td>\n",
       "      <td>1</td>\n",
       "      <td>1</td>\n",
       "      <td>1</td>\n",
       "      <td>1</td>\n",
       "      <td>1</td>\n",
       "      <td>1</td>\n",
       "    </tr>\n",
       "    <tr>\n",
       "      <td>2020-04-28</td>\n",
       "      <td>1</td>\n",
       "      <td>0</td>\n",
       "      <td>0</td>\n",
       "      <td>1</td>\n",
       "      <td>0</td>\n",
       "      <td>1</td>\n",
       "      <td>1</td>\n",
       "      <td>1</td>\n",
       "      <td>1</td>\n",
       "    </tr>\n",
       "    <tr>\n",
       "      <td>2020-05-07</td>\n",
       "      <td>1</td>\n",
       "      <td>1</td>\n",
       "      <td>1</td>\n",
       "      <td>1</td>\n",
       "      <td>1</td>\n",
       "      <td>1</td>\n",
       "      <td>1</td>\n",
       "      <td>1</td>\n",
       "      <td>1</td>\n",
       "    </tr>\n",
       "  </tbody>\n",
       "</table>\n",
       "<p>566 rows × 9 columns</p>\n",
       "</div>"
      ],
      "text/plain": [
       "            ^STOXX Up or Down  XLK Up or Down  QQQ Up or Down  \\\n",
       "Date                                                            \n",
       "2017-03-06                  0               0               0   \n",
       "2017-03-07                  0               0               0   \n",
       "2017-03-09                  1               0               1   \n",
       "2017-03-13                  1               1               1   \n",
       "2017-03-14                  0               0               0   \n",
       "...                       ...             ...             ...   \n",
       "2020-04-23                  1               0               0   \n",
       "2020-04-24                  0               1               1   \n",
       "2020-04-27                  1               1               1   \n",
       "2020-04-28                  1               0               0   \n",
       "2020-05-07                  1               1               1   \n",
       "\n",
       "            ^N100 Up or Down  SPY Up or Down  IMOEX.ME Up or Down  \\\n",
       "Date                                                                \n",
       "2017-03-06                 0               0                    0   \n",
       "2017-03-07                 0               0                    0   \n",
       "2017-03-09                 1               1                    0   \n",
       "2017-03-13                 1               1                    1   \n",
       "2017-03-14                 0               0                    1   \n",
       "...                      ...             ...                  ...   \n",
       "2020-04-23                 1               0                    1   \n",
       "2020-04-24                 0               1                    0   \n",
       "2020-04-27                 1               1                    1   \n",
       "2020-04-28                 1               0                    1   \n",
       "2020-05-07                 1               1                    1   \n",
       "\n",
       "            ^STOXX and ^N100  IMOEX.ME and ^N100  \\\n",
       "Date                                               \n",
       "2017-03-06                 0                   0   \n",
       "2017-03-07                 0                   0   \n",
       "2017-03-09                 1                   0   \n",
       "2017-03-13                 1                   1   \n",
       "2017-03-14                 0                   0   \n",
       "...                      ...                 ...   \n",
       "2020-04-23                 1                   1   \n",
       "2020-04-24                 0                   0   \n",
       "2020-04-27                 1                   1   \n",
       "2020-04-28                 1                   1   \n",
       "2020-05-07                 1                   1   \n",
       "\n",
       "            IMOEX.ME and ^N100 and ^STOXX  \n",
       "Date                                       \n",
       "2017-03-06                              0  \n",
       "2017-03-07                              0  \n",
       "2017-03-09                              0  \n",
       "2017-03-13                              1  \n",
       "2017-03-14                              0  \n",
       "...                                   ...  \n",
       "2020-04-23                              1  \n",
       "2020-04-24                              0  \n",
       "2020-04-27                              1  \n",
       "2020-04-28                              1  \n",
       "2020-05-07                              1  \n",
       "\n",
       "[566 rows x 9 columns]"
      ]
     },
     "execution_count": 93,
     "metadata": {},
     "output_type": "execute_result"
    }
   ],
   "source": [
    "#New dataframe to predict if two conditionals = a higher probability\n",
    "df1 = df[['^STOXX Up or Down','XLK Up or Down','QQQ Up or Down','^N100 Up or Down','SPY Up or Down','IMOEX.ME Up or Down']]\n",
    "df1['^STOXX and ^N100'] = df1['^STOXX Up or Down'] & df1['^N100 Up or Down']\n",
    "df1['IMOEX.ME and ^N100'] = df1['IMOEX.ME Up or Down'] & df1['^N100 Up or Down']\n",
    "df1['IMOEX.ME and ^N100 and ^STOXX'] = df1['IMOEX.ME Up or Down'] & df1['^N100 Up or Down'] & df1['^STOXX Up or Down']\n",
    "df1"
   ]
  },
  {
   "cell_type": "code",
   "execution_count": 75,
   "metadata": {},
   "outputs": [
    {
     "data": {
      "text/plain": [
       "^STOXX and ^N100  SPY Up or Down\n",
       "0                 0                 0.628571\n",
       "                  1                 0.371429\n",
       "1                 0                 0.255245\n",
       "                  1                 0.744755\n",
       "Name: XLK Up or Down, dtype: float64"
      ]
     },
     "execution_count": 75,
     "metadata": {},
     "output_type": "execute_result"
    }
   ],
   "source": [
    "#barely (other SPY binary to N100 binary is better because it happens more often then having both to be Up)\n",
    "df1.groupby('^STOXX and ^N100').count()['XLK Up or Down'] / len(df1)\n",
    "(df1.groupby(['^STOXX and ^N100','SPY Up or Down']).count() / df1.groupby('^STOXX and ^N100').count())['XLK Up or Down']"
   ]
  },
  {
   "cell_type": "code",
   "execution_count": 82,
   "metadata": {},
   "outputs": [
    {
     "data": {
      "text/plain": [
       "^STOXX and ^N100  QQQ Up or Down\n",
       "0                 0                 0.578571\n",
       "                  1                 0.421429\n",
       "1                 0                 0.276224\n",
       "                  1                 0.723776\n",
       "Name: XLK Up or Down, dtype: float64"
      ]
     },
     "execution_count": 82,
     "metadata": {},
     "output_type": "execute_result"
    }
   ],
   "source": [
    "###could do both SQQQ and QQQ with hedging (SQQQ is just the short version of being long QQQ)\n",
    "df1.groupby('^STOXX and ^N100').count()['XLK Up or Down'] / len(df1)\n",
    "(df1.groupby(['^STOXX and ^N100','QQQ Up or Down']).count() / df1.groupby('^STOXX and ^N100').count())['XLK Up or Down']"
   ]
  },
  {
   "cell_type": "code",
   "execution_count": 89,
   "metadata": {},
   "outputs": [
    {
     "data": {
      "text/plain": [
       "IMOEX.ME and ^N100  QQQ Up or Down\n",
       "0                   0                 0.517615\n",
       "                    1                 0.482385\n",
       "1                   0                 0.253807\n",
       "                    1                 0.746193\n",
       "Name: XLK Up or Down, dtype: float64"
      ]
     },
     "execution_count": 89,
     "metadata": {},
     "output_type": "execute_result"
    }
   ],
   "source": [
    "df1.groupby('IMOEX.ME and ^N100').count()['XLK Up or Down'] / len(df1)\n",
    "(df1.groupby(['IMOEX.ME and ^N100','QQQ Up or Down']).count() / df1.groupby('IMOEX.ME and ^N100').count())['XLK Up or Down']"
   ]
  },
  {
   "cell_type": "code",
   "execution_count": 90,
   "metadata": {},
   "outputs": [
    {
     "data": {
      "text/plain": [
       "IMOEX.ME and ^N100  SPY Up or Down\n",
       "0                   0                 0.563686\n",
       "                    1                 0.436314\n",
       "1                   0                 0.208122\n",
       "                    1                 0.791878\n",
       "Name: XLK Up or Down, dtype: float64"
      ]
     },
     "execution_count": 90,
     "metadata": {},
     "output_type": "execute_result"
    }
   ],
   "source": [
    "df1.groupby('IMOEX.ME and ^N100').count()['XLK Up or Down'] / len(df1)\n",
    "(df1.groupby(['IMOEX.ME and ^N100','SPY Up or Down']).count() / df1.groupby('IMOEX.ME and ^N100').count())['XLK Up or Down']"
   ]
  },
  {
   "cell_type": "code",
   "execution_count": 92,
   "metadata": {},
   "outputs": [
    {
     "data": {
      "text/plain": [
       "IMOEX.ME and ^N100  XLK Up or Down\n",
       "0                   0                 0.533875\n",
       "                    1                 0.466125\n",
       "1                   0                 0.263959\n",
       "                    1                 0.736041\n",
       "Name: SPY Up or Down, dtype: float64"
      ]
     },
     "execution_count": 92,
     "metadata": {},
     "output_type": "execute_result"
    }
   ],
   "source": [
    "df1.groupby('IMOEX.ME and ^N100').count()['SPY Up or Down'] / len(df1)\n",
    "(df1.groupby(['IMOEX.ME and ^N100','XLK Up or Down']).count() / df1.groupby('IMOEX.ME and ^N100').count())['SPY Up or Down']"
   ]
  },
  {
   "cell_type": "code",
   "execution_count": 96,
   "metadata": {},
   "outputs": [
    {
     "data": {
      "text/plain": [
       "IMOEX.ME and ^N100 and ^STOXX  SPY Up or Down\n",
       "0                              0                 0.554688\n",
       "                               1                 0.445312\n",
       "1                              0                 0.197802\n",
       "                               1                 0.802198\n",
       "Name: XLK Up or Down, dtype: float64"
      ]
     },
     "execution_count": 96,
     "metadata": {},
     "output_type": "execute_result"
    }
   ],
   "source": [
    "df1.groupby('IMOEX.ME and ^N100 and ^STOXX').count()['XLK Up or Down'] / len(df1)\n",
    "(df1.groupby(['IMOEX.ME and ^N100 and ^STOXX','SPY Up or Down']).count() / df1.groupby('IMOEX.ME and ^N100 and ^STOXX').count())['XLK Up or Down']"
   ]
  },
  {
   "cell_type": "code",
   "execution_count": 97,
   "metadata": {},
   "outputs": [
    {
     "data": {
      "text/plain": [
       "IMOEX.ME and ^N100 and ^STOXX  QQQ Up or Down\n",
       "0                              0                 0.513021\n",
       "                               1                 0.486979\n",
       "1                              0                 0.241758\n",
       "                               1                 0.758242\n",
       "Name: XLK Up or Down, dtype: float64"
      ]
     },
     "execution_count": 97,
     "metadata": {},
     "output_type": "execute_result"
    }
   ],
   "source": [
    "df1.groupby('IMOEX.ME and ^N100 and ^STOXX').count()['XLK Up or Down'] / len(df1)\n",
    "(df1.groupby(['IMOEX.ME and ^N100 and ^STOXX','QQQ Up or Down']).count() / df1.groupby('IMOEX.ME and ^N100 and ^STOXX').count())['XLK Up or Down']"
   ]
  },
  {
   "cell_type": "code",
   "execution_count": 98,
   "metadata": {},
   "outputs": [
    {
     "data": {
      "text/plain": [
       "IMOEX.ME and ^N100 and ^STOXX  XLK Up or Down\n",
       "0                              0                 0.528646\n",
       "                               1                 0.471354\n",
       "1                              0                 0.252747\n",
       "                               1                 0.747253\n",
       "Name: SPY Up or Down, dtype: float64"
      ]
     },
     "execution_count": 98,
     "metadata": {},
     "output_type": "execute_result"
    }
   ],
   "source": [
    "df1.groupby('IMOEX.ME and ^N100 and ^STOXX').count()['SPY Up or Down'] / len(df1)\n",
    "(df1.groupby(['IMOEX.ME and ^N100 and ^STOXX','XLK Up or Down']).count() / df1.groupby('IMOEX.ME and ^N100 and ^STOXX').count())['SPY Up or Down']"
   ]
  },
  {
   "cell_type": "code",
   "execution_count": null,
   "metadata": {},
   "outputs": [],
   "source": [
    "#######Conclusions#######\n",
    "### SPY: SPY would be up 80% of the time if ^N100,^STOXX, and IMOEX.ME is up\n",
    "### SPY: SPY would be up 79% of the time if ^N100 and IMOEX.ME is up\n",
    "### SPY: SPY would be up 73% of the time if ^N100 is up\n",
    "### SPY: SPY would be up 74% of the time if ^N100 and ^STOXX are up\n",
    "### QQQ: QQQ would be up 76% of the time when ^N100,^STOXX, and IMOEX.ME are up\n",
    "### QQQ: QQQ is up up 72% of the time when ^N100 is up\n",
    "### QQQ: QQQ would be up 74% of the time when ^N100 and ^STOXX are up\n",
    "### XLK: XLK is up 75% of the time when ^N100,IMOEX.ME and ^STOXX are up\n",
    "### XLK: XLK is up 70.74% of the time when ^N100 is up\n",
    "### XLK: XLK is up 71% of the time when ^N100 and ^STOXX are up\n",
    "### T-Mobile: Is up 76.59% of the time when their equity in Tokyo was up"
   ]
  },
  {
   "cell_type": "code",
   "execution_count": null,
   "metadata": {},
   "outputs": [],
   "source": [
    "###Further Studies would be to include the RSI and Stochastic Oscillator\n",
    "###When the buy signal is there and a world indice is up prior to NYSE or NASDAQ starting the day"
   ]
  }
 ],
 "metadata": {
  "kernelspec": {
   "display_name": "Python 3",
   "language": "python",
   "name": "python3"
  },
  "language_info": {
   "codemirror_mode": {
    "name": "ipython",
    "version": 3
   },
   "file_extension": ".py",
   "mimetype": "text/x-python",
   "name": "python",
   "nbconvert_exporter": "python",
   "pygments_lexer": "ipython3",
   "version": "3.7.4"
  }
 },
 "nbformat": 4,
 "nbformat_minor": 2
}
