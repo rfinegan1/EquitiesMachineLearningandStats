{
 "cells": [
  {
   "cell_type": "code",
   "execution_count": 69,
   "metadata": {},
   "outputs": [],
   "source": [
    "import pandas as pd\n",
    "import pandas_datareader.data as web\n",
    "import numpy as np\n",
    "import math\n",
    "import datetime as dt\n",
    "import matplotlib as mpl\n",
    "import matplotlib.pyplot as plt\n",
    "import statistics as stats\n",
    "import scipy\n",
    "from scipy.stats.stats import pearsonr\n",
    "from matplotlib import style\n",
    "import warnings\n",
    "import seaborn as sns\n",
    "import requests\n",
    "import bs4 as bs\n",
    "import os\n",
    "import csv\n",
    "warnings.filterwarnings('ignore')"
   ]
  },
  {
   "cell_type": "code",
   "execution_count": 150,
   "metadata": {},
   "outputs": [],
   "source": [
    "def betaMonthly(ticker):\n",
    "    '''Finds the 5 year monthly beta of a stock based on the ticker you plan to use.\n",
    "    This is somewhat inaccurate right now because I just took the average trading days\n",
    "    in a month for the monthly return instead of taking the actual monthly return of all\n",
    "    the months depending on how many days are in each month'''\n",
    "    #start date about 5 years ago based on trading days plus another 21 for calculating monthly returns\n",
    "    #an extra 21 days because the average amount of trading days in a month is 21 (1260+21)\n",
    "    start = dt.datetime.now() - dt.timedelta(days=1281)\n",
    "    end = dt.datetime.now()\n",
    "    #compare our equity to the market (S&P500)\n",
    "    market = 'SPY'\n",
    "    #dataframe for the stock\n",
    "    r = web.DataReader(ticker,'yahoo',start,end)\n",
    "    #dataframe for the market\n",
    "    r1 = web.DataReader(market,'yahoo',start,end)\n",
    "    #adding a column to easily locate the data for which security\n",
    "    r['Ticker'] = ticker\n",
    "    #creating a column labeling it's the market\n",
    "    r1['Market'] = market\n",
    "    r1['Market Adj Close'] = r1['Adj Close']\n",
    "    #setting the columns for each dataframe\n",
    "    df = r[['Ticker','Adj Close']]\n",
    "    df1 = r1[['Market','Market Adj Close']]\n",
    "    stock = df['Adj Close']\n",
    "    market = df1['Market Adj Close']\n",
    "    #combining the two dataframes in a way that is easy to read (thats why I used axis)\n",
    "    dfCombined = pd.concat([df1,df], sort=False, axis=1)\n",
    "    #average trading days in a month is 21\n",
    "    monthReturnStock = stock.pct_change(21)\n",
    "    monthReturnMarket = market.pct_change(21)\n",
    "    stock1 = monthReturnStock.dropna()\n",
    "    market1 = monthReturnMarket.dropna()\n",
    "    #covariance\n",
    "    covariance = np.cov(stock1,market1)[0][1]\n",
    "    variance = np.var(market1)\n",
    "    beta = covariance/variance\n",
    "    #CHECK\n",
    "    #correlation for past 3 years\n",
    "    correlation, pValue = pearsonr(stock1, market1)\n",
    "    #standard deviation of returns for stock in the past 5 years\n",
    "    stdevStock = stats.stdev(stock1)\n",
    "    #standard deviation of returns for market in the past 5 years\n",
    "    stdevMarket = stats.stdev(market1)\n",
    "    #formula\n",
    "    Beta = correlation * (stdevStock/stdevMarket)\n",
    "    diff = abs(Beta - beta)\n",
    "    if diff == 0:\n",
    "        print(Beta)\n",
    "    elif diff < 1:\n",
    "        print(beta)\n",
    "    else:\n",
    "        print(f'Something is wrong with calculations. This is the first method beta: {beta} and this is the second method: {Beta}') "
   ]
  },
  {
   "cell_type": "code",
   "execution_count": 151,
   "metadata": {
    "scrolled": true
   },
   "outputs": [
    {
     "name": "stdout",
     "output_type": "stream",
     "text": [
      "1.5571761918677747\n"
     ]
    }
   ],
   "source": [
    "#5yr monthly beta of stock of your choice\n",
    "betaMonthly('TSLA')"
   ]
  },
  {
   "cell_type": "code",
   "execution_count": 152,
   "metadata": {},
   "outputs": [],
   "source": [
    "def betaWeekly(ticker):\n",
    "    '''Finds the 5 year weekly beta of a stock based on the ticker you plan to use.\n",
    "    According to a study done by MIRELA MOMCILOVIC, SANJA VLAOVIC BEGOVIC, STEVAN TOMASEVIC \n",
    "    showed that the highest correlation between monthly, weekly, and daily stock betas are\n",
    "    weekly which means the weekly beta is the most stable.'''\n",
    "    #start date about 5 years ago based on trading days plus another 5 for calculating weekly returns\n",
    "    #an extra 5 days because the average amount of trading days in a week is 5 (1260+5)\n",
    "    start = dt.datetime.now() - dt.timedelta(days=1265)\n",
    "    end = dt.datetime.now()\n",
    "    #compare our equity to the market (S&P500)\n",
    "    market = 'SPY'\n",
    "    #dataframe for the stock\n",
    "    r = web.DataReader(ticker,'yahoo',start,end)\n",
    "    #dataframe for the market\n",
    "    r1 = web.DataReader(market,'yahoo',start,end)\n",
    "    #adding a column to easily locate the data for which security\n",
    "    r['Ticker'] = ticker\n",
    "    #creating a column labeling it's the market\n",
    "    r1['Market'] = market\n",
    "    r1['Market Adj Close'] = r1['Adj Close']\n",
    "    #setting the columns for each dataframe\n",
    "    df = r[['Ticker','Adj Close']]\n",
    "    df1 = r1[['Market','Market Adj Close']]\n",
    "    stock = df['Adj Close']\n",
    "    market = df1['Market Adj Close']\n",
    "    #combining the two dataframes in a way that is easy to read (thats why I used axis)\n",
    "    dfCombined = pd.concat([df1,df], sort=False, axis=1)\n",
    "    #average trading days in a week is 5\n",
    "    weekReturnStock = stock.pct_change(5)\n",
    "    weekReturnMarket = market.pct_change(5)\n",
    "    stock1 = weekReturnStock.dropna()\n",
    "    market1 = weekReturnMarket.dropna()\n",
    "    #covariance\n",
    "    covariance = np.cov(stock1,market1)[0][1]\n",
    "    variance = np.var(market1)\n",
    "    beta = covariance/variance\n",
    "    #CHECK\n",
    "    #correlation for past 5 years\n",
    "    correlation, pValue = pearsonr(stock1, market1)\n",
    "    #standard deviation of returns for stock in the past 5 years\n",
    "    stdevStock = stats.stdev(stock1)\n",
    "    #standard deviation of returns for market in the past 5 years\n",
    "    stdevMarket = stats.stdev(market1)\n",
    "    #formula\n",
    "    Beta = correlation * (stdevStock/stdevMarket)\n",
    "    diff = abs(Beta - beta)\n",
    "    if diff == 0:\n",
    "        print(Beta)\n",
    "    elif diff < 1:\n",
    "        print(beta)\n",
    "    else:\n",
    "        print(f'Something is wrong with calculations. This is the first method beta: {beta} and this is the second method: {Beta}')"
   ]
  },
  {
   "cell_type": "code",
   "execution_count": 154,
   "metadata": {},
   "outputs": [
    {
     "name": "stdout",
     "output_type": "stream",
     "text": [
      "1.6879972986055878\n"
     ]
    }
   ],
   "source": [
    "betaWeekly('TSLA')"
   ]
  },
  {
   "cell_type": "code",
   "execution_count": 144,
   "metadata": {},
   "outputs": [],
   "source": [
    "def betaDaily(ticker):\n",
    "    '''Finds the 5 year beta of a stock based on the ticker you plan to use. This is used\n",
    "    by calculating the daily returns when usually they use monthly returns'''\n",
    "    #start date about 5 years ago based on trading days plus 1 for calculating daily returns\n",
    "    #an extra day because I'm going to drop the NaN value (1260+1)\n",
    "    start = dt.datetime.now() - dt.timedelta(days=1261)\n",
    "    end = dt.datetime.now()\n",
    "    #compare our equity to the market (S&P500)\n",
    "    market = 'SPY'\n",
    "    #dataframe for the stock\n",
    "    r = web.DataReader(ticker,'yahoo',start,end)\n",
    "    #dataframe for the market\n",
    "    r1 = web.DataReader(market,'yahoo',start,end)\n",
    "    #adding a column to easily locate the data for which security\n",
    "    r['Ticker'] = ticker\n",
    "    #creating a column labeling it's the market\n",
    "    r1['Market'] = market\n",
    "    r1['Market Adj Close'] = r1['Adj Close']\n",
    "    #setting the columns for each dataframe\n",
    "    df = r[['Ticker','Adj Close']]\n",
    "    df1 = r1[['Market','Market Adj Close']]\n",
    "    stock = df['Adj Close']\n",
    "    market = df1['Market Adj Close']\n",
    "    #combining the two dataframes in a way that is easy to read (thats why I used axis)\n",
    "    dfCombined = pd.concat([df1,df], sort=False, axis=1)\n",
    "    returnStock = stock.pct_change()\n",
    "    returnMarket = market.pct_change()\n",
    "    stock1 = returnStock.dropna()\n",
    "    market1 = returnMarket.dropna()\n",
    "    #covariance\n",
    "    covariance = np.cov(stock1,market1)[0][1]\n",
    "    variance = np.var(market1)\n",
    "    beta = covariance/variance\n",
    "    #CHECK\n",
    "    #correlation for past 5 years\n",
    "    correlation, pValue = pearsonr(stock1, market1)\n",
    "    #standard deviation of returns for stock in the past 5 years\n",
    "    stdevStock = stats.stdev(stock1)\n",
    "    #standard deviation of returns for market in the past 5 years\n",
    "    stdevMarket = stats.stdev(market1)\n",
    "    #formula\n",
    "    Beta = correlation * (stdevStock/stdevMarket)\n",
    "    diff = abs(Beta - beta)\n",
    "    if diff == 0:\n",
    "        print(Beta)\n",
    "    elif diff < 1:\n",
    "        print(beta)\n",
    "    else:\n",
    "        print(f'Something is wrong with calculations. This is the first method beta: {beta} and this is the second method: {Beta}')"
   ]
  },
  {
   "cell_type": "code",
   "execution_count": 155,
   "metadata": {},
   "outputs": [
    {
     "name": "stdout",
     "output_type": "stream",
     "text": [
      "1.1846586158321297\n"
     ]
    }
   ],
   "source": [
    "betaDaily('TSLA')"
   ]
  }
 ],
 "metadata": {
  "kernelspec": {
   "display_name": "Python 3",
   "language": "python",
   "name": "python3"
  },
  "language_info": {
   "codemirror_mode": {
    "name": "ipython",
    "version": 3
   },
   "file_extension": ".py",
   "mimetype": "text/x-python",
   "name": "python",
   "nbconvert_exporter": "python",
   "pygments_lexer": "ipython3",
   "version": "3.7.4"
  }
 },
 "nbformat": 4,
 "nbformat_minor": 2
}
